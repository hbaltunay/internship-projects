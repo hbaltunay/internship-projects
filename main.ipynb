{
 "cells": [
  {
   "cell_type": "code",
   "execution_count": 2,
   "metadata": {},
   "outputs": [
    {
     "name": "stdout",
     "output_type": "stream",
     "text": [
      "0-10.Frame Average Processing Time: 1.06 ms\n",
      "10-20.Frame Average Processing Time: 1.15 ms\n",
      "20-30.Frame Average Processing Time: 1.32 ms\n",
      "30-40.Frame Average Processing Time: 1.45 ms\n",
      "40-50.Frame Average Processing Time: 1.71 ms\n",
      "50-60.Frame Average Processing Time: 1.60 ms\n"
     ]
    }
   ],
   "source": [
    "from core import AccidentDetection\n",
    "\n",
    "# Example 1\n",
    "\n",
    "accident = AccidentDetection(\n",
    "    source_path=\"videos/1.mp4\",\n",
    "    model_path=\"models/yolov8s.pt\",\n",
    "    save_path=\"./result.mp4\",\n",
    "    video_save=True,\n",
    "    past_num=10,\n",
    "    future_num=15,\n",
    "    threshold_distance=20,\n",
    "    detector_h=1.1,\n",
    "    area_h=0.5,\n",
    "    area_w=0.8,\n",
    "    verbose=True\n",
    ")\n",
    "\n",
    "accident.detect()"
   ]
  },
  {
   "cell_type": "markdown",
   "metadata": {},
   "source": [
    "![result.jpg alt ><](.\\results\\result.jpg)"
   ]
  }
 ],
 "metadata": {
  "kernelspec": {
   "display_name": "AI",
   "language": "python",
   "name": "python3"
  },
  "language_info": {
   "codemirror_mode": {
    "name": "ipython",
    "version": 3
   },
   "file_extension": ".py",
   "mimetype": "text/x-python",
   "name": "python",
   "nbconvert_exporter": "python",
   "pygments_lexer": "ipython3",
   "version": "3.9.18"
  }
 },
 "nbformat": 4,
 "nbformat_minor": 2
}
